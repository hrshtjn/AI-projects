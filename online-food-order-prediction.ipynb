{
 "cells": [
  {
   "cell_type": "code",
   "execution_count": 1,
   "id": "d2ffa102",
   "metadata": {
    "_cell_guid": "b1076dfc-b9ad-4769-8c92-a6c4dae69d19",
    "_uuid": "8f2839f25d086af736a60e9eeb907d3b93b6e0e5",
    "execution": {
     "iopub.execute_input": "2024-04-09T04:42:13.605610Z",
     "iopub.status.busy": "2024-04-09T04:42:13.605220Z",
     "iopub.status.idle": "2024-04-09T04:42:16.558883Z",
     "shell.execute_reply": "2024-04-09T04:42:16.557334Z"
    },
    "papermill": {
     "duration": 2.97218,
     "end_time": "2024-04-09T04:42:16.561669",
     "exception": false,
     "start_time": "2024-04-09T04:42:13.589489",
     "status": "completed"
    },
    "tags": []
   },
   "outputs": [],
   "source": [
    "# libraries\n",
    "\n",
    "import numpy as np\n",
    "import warnings\n",
    "import random\n",
    "warnings.filterwarnings('ignore')\n",
    "import pandas as pd\n",
    "import seaborn as sns\n",
    "import matplotlib.pyplot as plt\n",
    "import plotly.graph_objects as go\n",
    "\n",
    "# model\n",
    "from sklearn.metrics import confusion_matrix\n",
    "from sklearn.model_selection import train_test_split,cross_val_score\n",
    "from sklearn.ensemble import RandomForestClassifier\n",
    "\n",
    "#Encoding\n",
    "from sklearn.preprocessing import LabelEncoder"
   ]
  },
  {
   "cell_type": "code",
   "execution_count": 2,
   "id": "5b5cee93",
   "metadata": {
    "execution": {
     "iopub.execute_input": "2024-04-09T04:42:16.591260Z",
     "iopub.status.busy": "2024-04-09T04:42:16.590376Z",
     "iopub.status.idle": "2024-04-09T04:42:16.656283Z",
     "shell.execute_reply": "2024-04-09T04:42:16.655126Z"
    },
    "papermill": {
     "duration": 0.083746,
     "end_time": "2024-04-09T04:42:16.659148",
     "exception": false,
     "start_time": "2024-04-09T04:42:16.575402",
     "status": "completed"
    },
    "tags": []
   },
   "outputs": [
    {
     "data": {
      "text/html": [
       "<div>\n",
       "<style scoped>\n",
       "    .dataframe tbody tr th:only-of-type {\n",
       "        vertical-align: middle;\n",
       "    }\n",
       "\n",
       "    .dataframe tbody tr th {\n",
       "        vertical-align: top;\n",
       "    }\n",
       "\n",
       "    .dataframe thead th {\n",
       "        text-align: right;\n",
       "    }\n",
       "</style>\n",
       "<table border=\"1\" class=\"dataframe\">\n",
       "  <thead>\n",
       "    <tr style=\"text-align: right;\">\n",
       "      <th></th>\n",
       "      <th>Age</th>\n",
       "      <th>Gender</th>\n",
       "      <th>Marital Status</th>\n",
       "      <th>Occupation</th>\n",
       "      <th>Monthly Income</th>\n",
       "      <th>Educational Qualifications</th>\n",
       "      <th>Family size</th>\n",
       "      <th>latitude</th>\n",
       "      <th>longitude</th>\n",
       "      <th>Pin code</th>\n",
       "      <th>...</th>\n",
       "      <th>Less Delivery time</th>\n",
       "      <th>High Quality of package</th>\n",
       "      <th>Number of calls</th>\n",
       "      <th>Politeness</th>\n",
       "      <th>Freshness</th>\n",
       "      <th>Temperature</th>\n",
       "      <th>Good Taste</th>\n",
       "      <th>Good Quantity</th>\n",
       "      <th>Output</th>\n",
       "      <th>Reviews</th>\n",
       "    </tr>\n",
       "  </thead>\n",
       "  <tbody>\n",
       "    <tr>\n",
       "      <th>0</th>\n",
       "      <td>20</td>\n",
       "      <td>Female</td>\n",
       "      <td>Single</td>\n",
       "      <td>Student</td>\n",
       "      <td>No Income</td>\n",
       "      <td>Post Graduate</td>\n",
       "      <td>4</td>\n",
       "      <td>12.9766</td>\n",
       "      <td>77.5993</td>\n",
       "      <td>560001</td>\n",
       "      <td>...</td>\n",
       "      <td>Moderately Important</td>\n",
       "      <td>Moderately Important</td>\n",
       "      <td>Moderately Important</td>\n",
       "      <td>Moderately Important</td>\n",
       "      <td>Moderately Important</td>\n",
       "      <td>Moderately Important</td>\n",
       "      <td>Moderately Important</td>\n",
       "      <td>Moderately Important</td>\n",
       "      <td>Yes</td>\n",
       "      <td>Nil\\n</td>\n",
       "    </tr>\n",
       "    <tr>\n",
       "      <th>1</th>\n",
       "      <td>24</td>\n",
       "      <td>Female</td>\n",
       "      <td>Single</td>\n",
       "      <td>Student</td>\n",
       "      <td>Below Rs.10000</td>\n",
       "      <td>Graduate</td>\n",
       "      <td>3</td>\n",
       "      <td>12.9770</td>\n",
       "      <td>77.5773</td>\n",
       "      <td>560009</td>\n",
       "      <td>...</td>\n",
       "      <td>Very Important</td>\n",
       "      <td>Very Important</td>\n",
       "      <td>Very Important</td>\n",
       "      <td>Very Important</td>\n",
       "      <td>Very Important</td>\n",
       "      <td>Very Important</td>\n",
       "      <td>Very Important</td>\n",
       "      <td>Very Important</td>\n",
       "      <td>Yes</td>\n",
       "      <td>Nil</td>\n",
       "    </tr>\n",
       "    <tr>\n",
       "      <th>2</th>\n",
       "      <td>22</td>\n",
       "      <td>Male</td>\n",
       "      <td>Single</td>\n",
       "      <td>Student</td>\n",
       "      <td>Below Rs.10000</td>\n",
       "      <td>Post Graduate</td>\n",
       "      <td>3</td>\n",
       "      <td>12.9551</td>\n",
       "      <td>77.6593</td>\n",
       "      <td>560017</td>\n",
       "      <td>...</td>\n",
       "      <td>Important</td>\n",
       "      <td>Very Important</td>\n",
       "      <td>Moderately Important</td>\n",
       "      <td>Very Important</td>\n",
       "      <td>Very Important</td>\n",
       "      <td>Important</td>\n",
       "      <td>Very Important</td>\n",
       "      <td>Moderately Important</td>\n",
       "      <td>Yes</td>\n",
       "      <td>Many a times payment gateways are an issue, so...</td>\n",
       "    </tr>\n",
       "    <tr>\n",
       "      <th>3</th>\n",
       "      <td>22</td>\n",
       "      <td>Female</td>\n",
       "      <td>Single</td>\n",
       "      <td>Student</td>\n",
       "      <td>No Income</td>\n",
       "      <td>Graduate</td>\n",
       "      <td>6</td>\n",
       "      <td>12.9473</td>\n",
       "      <td>77.5616</td>\n",
       "      <td>560019</td>\n",
       "      <td>...</td>\n",
       "      <td>Very Important</td>\n",
       "      <td>Important</td>\n",
       "      <td>Moderately Important</td>\n",
       "      <td>Very Important</td>\n",
       "      <td>Very Important</td>\n",
       "      <td>Very Important</td>\n",
       "      <td>Very Important</td>\n",
       "      <td>Important</td>\n",
       "      <td>Yes</td>\n",
       "      <td>nil</td>\n",
       "    </tr>\n",
       "    <tr>\n",
       "      <th>4</th>\n",
       "      <td>22</td>\n",
       "      <td>Male</td>\n",
       "      <td>Single</td>\n",
       "      <td>Student</td>\n",
       "      <td>Below Rs.10000</td>\n",
       "      <td>Post Graduate</td>\n",
       "      <td>4</td>\n",
       "      <td>12.9850</td>\n",
       "      <td>77.5533</td>\n",
       "      <td>560010</td>\n",
       "      <td>...</td>\n",
       "      <td>Important</td>\n",
       "      <td>Important</td>\n",
       "      <td>Moderately Important</td>\n",
       "      <td>Important</td>\n",
       "      <td>Important</td>\n",
       "      <td>Important</td>\n",
       "      <td>Very Important</td>\n",
       "      <td>Very Important</td>\n",
       "      <td>Yes</td>\n",
       "      <td>NIL</td>\n",
       "    </tr>\n",
       "  </tbody>\n",
       "</table>\n",
       "<p>5 rows × 55 columns</p>\n",
       "</div>"
      ],
      "text/plain": [
       "   Age  Gender Marital Status Occupation  Monthly Income  \\\n",
       "0   20  Female         Single    Student       No Income   \n",
       "1   24  Female         Single    Student  Below Rs.10000   \n",
       "2   22    Male         Single    Student  Below Rs.10000   \n",
       "3   22  Female         Single    Student       No Income   \n",
       "4   22    Male         Single    Student  Below Rs.10000   \n",
       "\n",
       "  Educational Qualifications  Family size  latitude  longitude  Pin code  ...  \\\n",
       "0              Post Graduate            4   12.9766    77.5993    560001  ...   \n",
       "1                   Graduate            3   12.9770    77.5773    560009  ...   \n",
       "2              Post Graduate            3   12.9551    77.6593    560017  ...   \n",
       "3                   Graduate            6   12.9473    77.5616    560019  ...   \n",
       "4              Post Graduate            4   12.9850    77.5533    560010  ...   \n",
       "\n",
       "     Less Delivery time High Quality of package       Number of calls  \\\n",
       "0  Moderately Important    Moderately Important  Moderately Important   \n",
       "1        Very Important          Very Important        Very Important   \n",
       "2             Important          Very Important  Moderately Important   \n",
       "3        Very Important               Important  Moderately Important   \n",
       "4             Important               Important  Moderately Important   \n",
       "\n",
       "             Politeness            Freshness            Temperature  \\\n",
       "0  Moderately Important  Moderately Important  Moderately Important   \n",
       "1        Very Important        Very Important        Very Important   \n",
       "2        Very Important        Very Important             Important   \n",
       "3        Very Important        Very Important        Very Important   \n",
       "4             Important             Important             Important   \n",
       "\n",
       "            Good Taste          Good Quantity Output  \\\n",
       "0  Moderately Important  Moderately Important    Yes   \n",
       "1        Very Important        Very Important    Yes   \n",
       "2        Very Important  Moderately Important    Yes   \n",
       "3        Very Important             Important    Yes   \n",
       "4        Very Important        Very Important    Yes   \n",
       "\n",
       "                                             Reviews  \n",
       "0                                              Nil\\n  \n",
       "1                                                Nil  \n",
       "2  Many a times payment gateways are an issue, so...  \n",
       "3                                                nil  \n",
       "4                                                NIL  \n",
       "\n",
       "[5 rows x 55 columns]"
      ]
     },
     "execution_count": 2,
     "metadata": {},
     "output_type": "execute_result"
    }
   ],
   "source": [
    "data = pd.read_csv(\"../input/online-food-delivery-preferencesbangalore-region/onlinedeliverydata.csv\")\n",
    "data.head()"
   ]
  },
  {
   "cell_type": "code",
   "execution_count": 3,
   "id": "143b33f8",
   "metadata": {
    "execution": {
     "iopub.execute_input": "2024-04-09T04:42:16.689645Z",
     "iopub.status.busy": "2024-04-09T04:42:16.689013Z",
     "iopub.status.idle": "2024-04-09T04:42:16.716334Z",
     "shell.execute_reply": "2024-04-09T04:42:16.715075Z"
    },
    "papermill": {
     "duration": 0.045997,
     "end_time": "2024-04-09T04:42:16.719153",
     "exception": false,
     "start_time": "2024-04-09T04:42:16.673156",
     "status": "completed"
    },
    "tags": []
   },
   "outputs": [
    {
     "name": "stdout",
     "output_type": "stream",
     "text": [
      "<class 'pandas.core.frame.DataFrame'>\n",
      "RangeIndex: 388 entries, 0 to 387\n",
      "Data columns (total 55 columns):\n",
      " #   Column                                     Non-Null Count  Dtype  \n",
      "---  ------                                     --------------  -----  \n",
      " 0   Age                                        388 non-null    int64  \n",
      " 1   Gender                                     388 non-null    object \n",
      " 2   Marital Status                             388 non-null    object \n",
      " 3   Occupation                                 388 non-null    object \n",
      " 4   Monthly Income                             388 non-null    object \n",
      " 5   Educational Qualifications                 388 non-null    object \n",
      " 6   Family size                                388 non-null    int64  \n",
      " 7   latitude                                   388 non-null    float64\n",
      " 8   longitude                                  388 non-null    float64\n",
      " 9   Pin code                                   388 non-null    int64  \n",
      " 10  Medium (P1)                                388 non-null    object \n",
      " 11  Medium (P2)                                388 non-null    object \n",
      " 12  Meal(P1)                                   388 non-null    object \n",
      " 13  Meal(P2)                                   388 non-null    object \n",
      " 14  Perference(P1)                             388 non-null    object \n",
      " 15  Perference(P2)                             388 non-null    object \n",
      " 16  Ease and convenient                        388 non-null    object \n",
      " 17  Time saving                                388 non-null    object \n",
      " 18  More restaurant choices                    388 non-null    object \n",
      " 19  Easy Payment option                        388 non-null    object \n",
      " 20  More Offers and Discount                   388 non-null    object \n",
      " 21  Good Food quality                          388 non-null    object \n",
      " 22  Good Tracking system                       388 non-null    object \n",
      " 23  Self Cooking                               388 non-null    object \n",
      " 24  Health Concern                             388 non-null    object \n",
      " 25  Late Delivery                              388 non-null    object \n",
      " 26  Poor Hygiene                               388 non-null    object \n",
      " 27  Bad past experience                        388 non-null    object \n",
      " 28  Unavailability                             388 non-null    object \n",
      " 29  Unaffordable                               388 non-null    object \n",
      " 30  Long delivery time                         388 non-null    object \n",
      " 31  Delay of delivery person getting assigned  388 non-null    object \n",
      " 32  Delay of delivery person picking up food   388 non-null    object \n",
      " 33  Wrong order delivered                      388 non-null    object \n",
      " 34  Missing item                               388 non-null    object \n",
      " 35  Order placed by mistake                    388 non-null    object \n",
      " 36  Influence of time                          388 non-null    object \n",
      " 37  Order Time                                 388 non-null    object \n",
      " 38  Maximum wait time                          388 non-null    object \n",
      " 39  Residence in busy location                 388 non-null    object \n",
      " 40  Google Maps Accuracy                       388 non-null    object \n",
      " 41  Good Road Condition                        388 non-null    object \n",
      " 42  Low quantity low time                      388 non-null    object \n",
      " 43  Delivery person ability                    388 non-null    object \n",
      " 44  Influence of rating                        388 non-null    object \n",
      " 45  Less Delivery time                         388 non-null    object \n",
      " 46  High Quality of package                    388 non-null    object \n",
      " 47  Number of calls                            388 non-null    object \n",
      " 48  Politeness                                 388 non-null    object \n",
      " 49  Freshness                                  388 non-null    object \n",
      " 50  Temperature                                388 non-null    object \n",
      " 51  Good Taste                                 388 non-null    object \n",
      " 52  Good Quantity                              388 non-null    object \n",
      " 53  Output                                     388 non-null    object \n",
      " 54  Reviews                                    387 non-null    object \n",
      "dtypes: float64(2), int64(3), object(50)\n",
      "memory usage: 166.8+ KB\n"
     ]
    }
   ],
   "source": [
    "data.info()"
   ]
  },
  {
   "cell_type": "code",
   "execution_count": 4,
   "id": "3245978c",
   "metadata": {
    "execution": {
     "iopub.execute_input": "2024-04-09T04:42:16.752645Z",
     "iopub.status.busy": "2024-04-09T04:42:16.752204Z",
     "iopub.status.idle": "2024-04-09T04:42:16.768500Z",
     "shell.execute_reply": "2024-04-09T04:42:16.767284Z"
    },
    "papermill": {
     "duration": 0.037146,
     "end_time": "2024-04-09T04:42:16.770876",
     "exception": false,
     "start_time": "2024-04-09T04:42:16.733730",
     "status": "completed"
    },
    "tags": []
   },
   "outputs": [
    {
     "name": "stdout",
     "output_type": "stream",
     "text": [
      "<class 'pandas.core.frame.DataFrame'>\n",
      "RangeIndex: 388 entries, 0 to 387\n",
      "Data columns (total 13 columns):\n",
      " #   Column                      Non-Null Count  Dtype  \n",
      "---  ------                      --------------  -----  \n",
      " 0   Age                         388 non-null    int64  \n",
      " 1   Gender                      388 non-null    object \n",
      " 2   Marital Status              388 non-null    object \n",
      " 3   Occupation                  388 non-null    object \n",
      " 4   Monthly Income              388 non-null    object \n",
      " 5   Educational Qualifications  388 non-null    object \n",
      " 6   Family size                 388 non-null    int64  \n",
      " 7   latitude                    388 non-null    float64\n",
      " 8   longitude                   388 non-null    float64\n",
      " 9   Pin code                    388 non-null    int64  \n",
      " 10  Less Delivery time          388 non-null    object \n",
      " 11  High Quality of package     388 non-null    object \n",
      " 12  Output                      388 non-null    object \n",
      "dtypes: float64(2), int64(3), object(8)\n",
      "memory usage: 39.5+ KB\n"
     ]
    }
   ],
   "source": [
    "data = data[[\"Age\",\"Gender\", \"Marital Status\",\"Occupation\", \"Monthly Income\", \"Educational Qualifications\",\n",
    "             \"Family size\",\"latitude\", \"longitude\", \"Pin code\",\"Less Delivery time\",\"High Quality of package\",\"Output\"]].copy()\n",
    "data.info()"
   ]
  },
  {
   "cell_type": "code",
   "execution_count": 5,
   "id": "dd94c2f2",
   "metadata": {
    "execution": {
     "iopub.execute_input": "2024-04-09T04:42:16.802065Z",
     "iopub.status.busy": "2024-04-09T04:42:16.801317Z",
     "iopub.status.idle": "2024-04-09T04:42:16.809633Z",
     "shell.execute_reply": "2024-04-09T04:42:16.808748Z"
    },
    "papermill": {
     "duration": 0.026349,
     "end_time": "2024-04-09T04:42:16.811783",
     "exception": false,
     "start_time": "2024-04-09T04:42:16.785434",
     "status": "completed"
    },
    "tags": []
   },
   "outputs": [
    {
     "data": {
      "text/plain": [
       "Age                           0\n",
       "Gender                        0\n",
       "Marital Status                0\n",
       "Occupation                    0\n",
       "Monthly Income                0\n",
       "Educational Qualifications    0\n",
       "Family size                   0\n",
       "latitude                      0\n",
       "longitude                     0\n",
       "Pin code                      0\n",
       "Less Delivery time            0\n",
       "High Quality of package       0\n",
       "Output                        0\n",
       "dtype: int64"
      ]
     },
     "execution_count": 5,
     "metadata": {},
     "output_type": "execute_result"
    }
   ],
   "source": [
    "data.isnull().sum() # no empty values"
   ]
  },
  {
   "cell_type": "code",
   "execution_count": 6,
   "id": "8ba635c4",
   "metadata": {
    "execution": {
     "iopub.execute_input": "2024-04-09T04:42:16.842957Z",
     "iopub.status.busy": "2024-04-09T04:42:16.842263Z",
     "iopub.status.idle": "2024-04-09T04:42:16.861316Z",
     "shell.execute_reply": "2024-04-09T04:42:16.860480Z"
    },
    "papermill": {
     "duration": 0.037179,
     "end_time": "2024-04-09T04:42:16.863531",
     "exception": false,
     "start_time": "2024-04-09T04:42:16.826352",
     "status": "completed"
    },
    "tags": []
   },
   "outputs": [
    {
     "data": {
      "text/html": [
       "<div>\n",
       "<style scoped>\n",
       "    .dataframe tbody tr th:only-of-type {\n",
       "        vertical-align: middle;\n",
       "    }\n",
       "\n",
       "    .dataframe tbody tr th {\n",
       "        vertical-align: top;\n",
       "    }\n",
       "\n",
       "    .dataframe thead th {\n",
       "        text-align: right;\n",
       "    }\n",
       "</style>\n",
       "<table border=\"1\" class=\"dataframe\">\n",
       "  <thead>\n",
       "    <tr style=\"text-align: right;\">\n",
       "      <th></th>\n",
       "      <th>Age</th>\n",
       "      <th>Gender</th>\n",
       "      <th>Marital Status</th>\n",
       "      <th>Occupation</th>\n",
       "      <th>Monthly Income</th>\n",
       "      <th>Educational Qualifications</th>\n",
       "      <th>Family size</th>\n",
       "      <th>latitude</th>\n",
       "      <th>longitude</th>\n",
       "      <th>Pin code</th>\n",
       "      <th>Less Delivery time</th>\n",
       "      <th>High Quality of package</th>\n",
       "      <th>Output</th>\n",
       "    </tr>\n",
       "  </thead>\n",
       "  <tbody>\n",
       "    <tr>\n",
       "      <th>0</th>\n",
       "      <td>20</td>\n",
       "      <td>Female</td>\n",
       "      <td>Single</td>\n",
       "      <td>Student</td>\n",
       "      <td>No Income</td>\n",
       "      <td>Post Graduate</td>\n",
       "      <td>4</td>\n",
       "      <td>12.9766</td>\n",
       "      <td>77.5993</td>\n",
       "      <td>560001</td>\n",
       "      <td>Moderately Important</td>\n",
       "      <td>Moderately Important</td>\n",
       "      <td>Yes</td>\n",
       "    </tr>\n",
       "    <tr>\n",
       "      <th>1</th>\n",
       "      <td>24</td>\n",
       "      <td>Female</td>\n",
       "      <td>Single</td>\n",
       "      <td>Student</td>\n",
       "      <td>Below Rs.10000</td>\n",
       "      <td>Graduate</td>\n",
       "      <td>3</td>\n",
       "      <td>12.9770</td>\n",
       "      <td>77.5773</td>\n",
       "      <td>560009</td>\n",
       "      <td>Very Important</td>\n",
       "      <td>Very Important</td>\n",
       "      <td>Yes</td>\n",
       "    </tr>\n",
       "    <tr>\n",
       "      <th>2</th>\n",
       "      <td>22</td>\n",
       "      <td>Male</td>\n",
       "      <td>Single</td>\n",
       "      <td>Student</td>\n",
       "      <td>Below Rs.10000</td>\n",
       "      <td>Post Graduate</td>\n",
       "      <td>3</td>\n",
       "      <td>12.9551</td>\n",
       "      <td>77.6593</td>\n",
       "      <td>560017</td>\n",
       "      <td>Important</td>\n",
       "      <td>Very Important</td>\n",
       "      <td>Yes</td>\n",
       "    </tr>\n",
       "    <tr>\n",
       "      <th>3</th>\n",
       "      <td>22</td>\n",
       "      <td>Female</td>\n",
       "      <td>Single</td>\n",
       "      <td>Student</td>\n",
       "      <td>No Income</td>\n",
       "      <td>Graduate</td>\n",
       "      <td>6</td>\n",
       "      <td>12.9473</td>\n",
       "      <td>77.5616</td>\n",
       "      <td>560019</td>\n",
       "      <td>Very Important</td>\n",
       "      <td>Important</td>\n",
       "      <td>Yes</td>\n",
       "    </tr>\n",
       "    <tr>\n",
       "      <th>4</th>\n",
       "      <td>22</td>\n",
       "      <td>Male</td>\n",
       "      <td>Single</td>\n",
       "      <td>Student</td>\n",
       "      <td>Below Rs.10000</td>\n",
       "      <td>Post Graduate</td>\n",
       "      <td>4</td>\n",
       "      <td>12.9850</td>\n",
       "      <td>77.5533</td>\n",
       "      <td>560010</td>\n",
       "      <td>Important</td>\n",
       "      <td>Important</td>\n",
       "      <td>Yes</td>\n",
       "    </tr>\n",
       "    <tr>\n",
       "      <th>5</th>\n",
       "      <td>27</td>\n",
       "      <td>Female</td>\n",
       "      <td>Married</td>\n",
       "      <td>Employee</td>\n",
       "      <td>More than 50000</td>\n",
       "      <td>Post Graduate</td>\n",
       "      <td>2</td>\n",
       "      <td>12.9299</td>\n",
       "      <td>77.6848</td>\n",
       "      <td>560103</td>\n",
       "      <td>Important</td>\n",
       "      <td>Very Important</td>\n",
       "      <td>Yes</td>\n",
       "    </tr>\n",
       "    <tr>\n",
       "      <th>6</th>\n",
       "      <td>22</td>\n",
       "      <td>Male</td>\n",
       "      <td>Single</td>\n",
       "      <td>Student</td>\n",
       "      <td>No Income</td>\n",
       "      <td>Graduate</td>\n",
       "      <td>3</td>\n",
       "      <td>12.9770</td>\n",
       "      <td>77.5773</td>\n",
       "      <td>560009</td>\n",
       "      <td>Very Important</td>\n",
       "      <td>Very Important</td>\n",
       "      <td>Yes</td>\n",
       "    </tr>\n",
       "    <tr>\n",
       "      <th>7</th>\n",
       "      <td>24</td>\n",
       "      <td>Female</td>\n",
       "      <td>Single</td>\n",
       "      <td>Student</td>\n",
       "      <td>No Income</td>\n",
       "      <td>Post Graduate</td>\n",
       "      <td>3</td>\n",
       "      <td>12.9828</td>\n",
       "      <td>77.6131</td>\n",
       "      <td>560042</td>\n",
       "      <td>Moderately Important</td>\n",
       "      <td>Important</td>\n",
       "      <td>Yes</td>\n",
       "    </tr>\n",
       "    <tr>\n",
       "      <th>8</th>\n",
       "      <td>23</td>\n",
       "      <td>Female</td>\n",
       "      <td>Single</td>\n",
       "      <td>Student</td>\n",
       "      <td>No Income</td>\n",
       "      <td>Post Graduate</td>\n",
       "      <td>2</td>\n",
       "      <td>12.9766</td>\n",
       "      <td>77.5993</td>\n",
       "      <td>560001</td>\n",
       "      <td>Important</td>\n",
       "      <td>Important</td>\n",
       "      <td>Yes</td>\n",
       "    </tr>\n",
       "    <tr>\n",
       "      <th>9</th>\n",
       "      <td>23</td>\n",
       "      <td>Female</td>\n",
       "      <td>Single</td>\n",
       "      <td>Student</td>\n",
       "      <td>No Income</td>\n",
       "      <td>Post Graduate</td>\n",
       "      <td>4</td>\n",
       "      <td>12.9854</td>\n",
       "      <td>77.7081</td>\n",
       "      <td>560048</td>\n",
       "      <td>Moderately Important</td>\n",
       "      <td>Very Important</td>\n",
       "      <td>Yes</td>\n",
       "    </tr>\n",
       "  </tbody>\n",
       "</table>\n",
       "</div>"
      ],
      "text/plain": [
       "   Age  Gender Marital Status Occupation   Monthly Income  \\\n",
       "0   20  Female         Single    Student        No Income   \n",
       "1   24  Female         Single    Student   Below Rs.10000   \n",
       "2   22    Male         Single    Student   Below Rs.10000   \n",
       "3   22  Female         Single    Student        No Income   \n",
       "4   22    Male         Single    Student   Below Rs.10000   \n",
       "5   27  Female        Married   Employee  More than 50000   \n",
       "6   22    Male         Single    Student        No Income   \n",
       "7   24  Female         Single    Student        No Income   \n",
       "8   23  Female         Single    Student        No Income   \n",
       "9   23  Female         Single    Student        No Income   \n",
       "\n",
       "  Educational Qualifications  Family size  latitude  longitude  Pin code  \\\n",
       "0              Post Graduate            4   12.9766    77.5993    560001   \n",
       "1                   Graduate            3   12.9770    77.5773    560009   \n",
       "2              Post Graduate            3   12.9551    77.6593    560017   \n",
       "3                   Graduate            6   12.9473    77.5616    560019   \n",
       "4              Post Graduate            4   12.9850    77.5533    560010   \n",
       "5              Post Graduate            2   12.9299    77.6848    560103   \n",
       "6                   Graduate            3   12.9770    77.5773    560009   \n",
       "7              Post Graduate            3   12.9828    77.6131    560042   \n",
       "8              Post Graduate            2   12.9766    77.5993    560001   \n",
       "9              Post Graduate            4   12.9854    77.7081    560048   \n",
       "\n",
       "     Less Delivery time High Quality of package Output  \n",
       "0  Moderately Important    Moderately Important    Yes  \n",
       "1        Very Important          Very Important    Yes  \n",
       "2             Important          Very Important    Yes  \n",
       "3        Very Important               Important    Yes  \n",
       "4             Important               Important    Yes  \n",
       "5             Important          Very Important    Yes  \n",
       "6        Very Important          Very Important    Yes  \n",
       "7  Moderately Important               Important    Yes  \n",
       "8             Important               Important    Yes  \n",
       "9  Moderately Important          Very Important    Yes  "
      ]
     },
     "execution_count": 6,
     "metadata": {},
     "output_type": "execute_result"
    }
   ],
   "source": [
    "data.head(10)"
   ]
  },
  {
   "cell_type": "code",
   "execution_count": 7,
   "id": "aa443e6b",
   "metadata": {
    "execution": {
     "iopub.execute_input": "2024-04-09T04:42:16.895682Z",
     "iopub.status.busy": "2024-04-09T04:42:16.894617Z",
     "iopub.status.idle": "2024-04-09T04:42:18.585541Z",
     "shell.execute_reply": "2024-04-09T04:42:18.584660Z"
    },
    "papermill": {
     "duration": 1.710441,
     "end_time": "2024-04-09T04:42:18.588798",
     "exception": false,
     "start_time": "2024-04-09T04:42:16.878357",
     "status": "completed"
    },
    "tags": []
   },
   "outputs": [
    {
     "data": {
      "image/png": "[encoded data removed]",
      "text/plain": [
       "<Figure size 2000x1500 with 6 Axes>"
      ]
     },
     "metadata": {},
     "output_type": "display_data"
    }
   ],
   "source": [
    "data.hist(bins=50, figsize=(20,15))\n",
    "plt.show()"
   ]
  },
  {
   "cell_type": "code",
   "execution_count": 8,
   "id": "8c6980af",
   "metadata": {
    "execution": {
     "iopub.execute_input": "2024-04-09T04:42:18.623262Z",
     "iopub.status.busy": "2024-04-09T04:42:18.622820Z",
     "iopub.status.idle": "2024-04-09T04:42:18.630626Z",
     "shell.execute_reply": "2024-04-09T04:42:18.629513Z"
    },
    "papermill": {
     "duration": 0.027702,
     "end_time": "2024-04-09T04:42:18.633134",
     "exception": false,
     "start_time": "2024-04-09T04:42:18.605432",
     "status": "completed"
    },
    "tags": []
   },
   "outputs": [
    {
     "data": {
      "text/plain": [
       "array(['Moderately Important', 'Very Important', 'Important',\n",
       "       'Unimportant', 'Slightly Important'], dtype=object)"
      ]
     },
     "execution_count": 8,
     "metadata": {},
     "output_type": "execute_result"
    }
   ],
   "source": [
    "data[\"High Quality of package\"].unique()"
   ]
  },
  {
   "cell_type": "code",
   "execution_count": 9,
   "id": "741366cc",
   "metadata": {
    "execution": {
     "iopub.execute_input": "2024-04-09T04:42:18.668454Z",
     "iopub.status.busy": "2024-04-09T04:42:18.668032Z",
     "iopub.status.idle": "2024-04-09T04:42:18.675710Z",
     "shell.execute_reply": "2024-04-09T04:42:18.674639Z"
    },
    "papermill": {
     "duration": 0.028184,
     "end_time": "2024-04-09T04:42:18.678149",
     "exception": false,
     "start_time": "2024-04-09T04:42:18.649965",
     "status": "completed"
    },
    "tags": []
   },
   "outputs": [
    {
     "data": {
      "text/plain": [
       "array(['Moderately Important', 'Very Important', 'Important',\n",
       "       'Slightly Important', 'Unimportant'], dtype=object)"
      ]
     },
     "execution_count": 9,
     "metadata": {},
     "output_type": "execute_result"
    }
   ],
   "source": [
    "data[\"Less Delivery time\"].unique()"
   ]
  },
  {
   "cell_type": "code",
   "execution_count": 10,
   "id": "e4ed47bb",
   "metadata": {
    "execution": {
     "iopub.execute_input": "2024-04-09T04:42:18.715389Z",
     "iopub.status.busy": "2024-04-09T04:42:18.714433Z",
     "iopub.status.idle": "2024-04-09T04:42:18.723108Z",
     "shell.execute_reply": "2024-04-09T04:42:18.721901Z"
    },
    "papermill": {
     "duration": 0.03146,
     "end_time": "2024-04-09T04:42:18.726173",
     "exception": false,
     "start_time": "2024-04-09T04:42:18.694713",
     "status": "completed"
    },
    "tags": []
   },
   "outputs": [
    {
     "data": {
      "text/plain": [
       "array(['Female', 'Male'], dtype=object)"
      ]
     },
     "execution_count": 10,
     "metadata": {},
     "output_type": "execute_result"
    }
   ],
   "source": [
    "data[\"Gender\"].unique()"
   ]
  },
  {
   "cell_type": "code",
   "execution_count": 11,
   "id": "b61aff45",
   "metadata": {
    "execution": {
     "iopub.execute_input": "2024-04-09T04:42:18.769266Z",
     "iopub.status.busy": "2024-04-09T04:42:18.768419Z",
     "iopub.status.idle": "2024-04-09T04:42:18.778013Z",
     "shell.execute_reply": "2024-04-09T04:42:18.776904Z"
    },
    "papermill": {
     "duration": 0.034135,
     "end_time": "2024-04-09T04:42:18.781009",
     "exception": false,
     "start_time": "2024-04-09T04:42:18.746874",
     "status": "completed"
    },
    "tags": []
   },
   "outputs": [
    {
     "data": {
      "text/plain": [
       "array(['No Income', 'Below Rs.10000', 'More than 50000', '10001 to 25000',\n",
       "       '25001 to 50000'], dtype=object)"
      ]
     },
     "execution_count": 11,
     "metadata": {},
     "output_type": "execute_result"
    }
   ],
   "source": [
    "data[\"Monthly Income\"].unique()"
   ]
  },
  {
   "cell_type": "code",
   "execution_count": 12,
   "id": "e7f739f0",
   "metadata": {
    "execution": {
     "iopub.execute_input": "2024-04-09T04:42:18.817389Z",
     "iopub.status.busy": "2024-04-09T04:42:18.817005Z",
     "iopub.status.idle": "2024-04-09T04:42:18.827052Z",
     "shell.execute_reply": "2024-04-09T04:42:18.825111Z"
    },
    "papermill": {
     "duration": 0.031337,
     "end_time": "2024-04-09T04:42:18.830243",
     "exception": false,
     "start_time": "2024-04-09T04:42:18.798906",
     "status": "completed"
    },
    "tags": []
   },
   "outputs": [
    {
     "data": {
      "text/plain": [
       "array(['Post Graduate', 'Graduate', 'Ph.D', 'Uneducated', 'School'],\n",
       "      dtype=object)"
      ]
     },
     "execution_count": 12,
     "metadata": {},
     "output_type": "execute_result"
    }
   ],
   "source": [
    "data[\"Educational Qualifications\"].unique()"
   ]
  },
  {
   "cell_type": "code",
   "execution_count": 13,
   "id": "86aad4dc",
   "metadata": {
    "execution": {
     "iopub.execute_input": "2024-04-09T04:42:18.882771Z",
     "iopub.status.busy": "2024-04-09T04:42:18.882269Z",
     "iopub.status.idle": "2024-04-09T04:42:18.901481Z",
     "shell.execute_reply": "2024-04-09T04:42:18.900158Z"
    },
    "papermill": {
     "duration": 0.050219,
     "end_time": "2024-04-09T04:42:18.904810",
     "exception": false,
     "start_time": "2024-04-09T04:42:18.854591",
     "status": "completed"
    },
    "tags": []
   },
   "outputs": [],
   "source": [
    "# Label encode categorical variables\n",
    "label_encoder = LabelEncoder()\n",
    "edu_encoder = LabelEncoder()\n",
    "data[\"Gender\"] = label_encoder.fit_transform(data[\"Gender\"])\n",
    "data[\"Occupation\"] = label_encoder.fit_transform(data[\"Occupation\"])\n",
    "data[\"Educational Qualifications\"] = edu_encoder.fit_transform(data[\"Educational Qualifications\"])\n",
    "data[\"High Quality of package\"] = label_encoder.fit_transform(data[\"High Quality of package\"])\n",
    "data[\"Less Delivery time\"] = label_encoder.fit_transform(data[\"Less Delivery time\"])\n",
    "data[\"Monthly Income\"] = label_encoder.fit_transform(data[\"Monthly Income\"])\n",
    "data[\"Marital Status\"] = label_encoder.fit_transform(data[\"Marital Status\"])\n",
    "data[\"Output\"] = label_encoder.fit_transform(data[\"Output\"])\n"
   ]
  },
  {
   "cell_type": "code",
   "execution_count": 14,
   "id": "ec5d7f5e",
   "metadata": {
    "execution": {
     "iopub.execute_input": "2024-04-09T04:42:18.942336Z",
     "iopub.status.busy": "2024-04-09T04:42:18.940563Z",
     "iopub.status.idle": "2024-04-09T04:42:18.960158Z",
     "shell.execute_reply": "2024-04-09T04:42:18.959001Z"
    },
    "papermill": {
     "duration": 0.040318,
     "end_time": "2024-04-09T04:42:18.962809",
     "exception": false,
     "start_time": "2024-04-09T04:42:18.922491",
     "status": "completed"
    },
    "tags": []
   },
   "outputs": [
    {
     "data": {
      "text/html": [
       "<div>\n",
       "<style scoped>\n",
       "    .dataframe tbody tr th:only-of-type {\n",
       "        vertical-align: middle;\n",
       "    }\n",
       "\n",
       "    .dataframe tbody tr th {\n",
       "        vertical-align: top;\n",
       "    }\n",
       "\n",
       "    .dataframe thead th {\n",
       "        text-align: right;\n",
       "    }\n",
       "</style>\n",
       "<table border=\"1\" class=\"dataframe\">\n",
       "  <thead>\n",
       "    <tr style=\"text-align: right;\">\n",
       "      <th></th>\n",
       "      <th>Age</th>\n",
       "      <th>Gender</th>\n",
       "      <th>Marital Status</th>\n",
       "      <th>Occupation</th>\n",
       "      <th>Monthly Income</th>\n",
       "      <th>Educational Qualifications</th>\n",
       "      <th>Family size</th>\n",
       "      <th>latitude</th>\n",
       "      <th>longitude</th>\n",
       "      <th>Pin code</th>\n",
       "      <th>Less Delivery time</th>\n",
       "      <th>High Quality of package</th>\n",
       "      <th>Output</th>\n",
       "    </tr>\n",
       "  </thead>\n",
       "  <tbody>\n",
       "    <tr>\n",
       "      <th>0</th>\n",
       "      <td>20</td>\n",
       "      <td>0</td>\n",
       "      <td>2</td>\n",
       "      <td>3</td>\n",
       "      <td>4</td>\n",
       "      <td>2</td>\n",
       "      <td>4</td>\n",
       "      <td>12.9766</td>\n",
       "      <td>77.5993</td>\n",
       "      <td>560001</td>\n",
       "      <td>1</td>\n",
       "      <td>1</td>\n",
       "      <td>1</td>\n",
       "    </tr>\n",
       "    <tr>\n",
       "      <th>1</th>\n",
       "      <td>24</td>\n",
       "      <td>0</td>\n",
       "      <td>2</td>\n",
       "      <td>3</td>\n",
       "      <td>2</td>\n",
       "      <td>0</td>\n",
       "      <td>3</td>\n",
       "      <td>12.9770</td>\n",
       "      <td>77.5773</td>\n",
       "      <td>560009</td>\n",
       "      <td>4</td>\n",
       "      <td>4</td>\n",
       "      <td>1</td>\n",
       "    </tr>\n",
       "    <tr>\n",
       "      <th>2</th>\n",
       "      <td>22</td>\n",
       "      <td>1</td>\n",
       "      <td>2</td>\n",
       "      <td>3</td>\n",
       "      <td>2</td>\n",
       "      <td>2</td>\n",
       "      <td>3</td>\n",
       "      <td>12.9551</td>\n",
       "      <td>77.6593</td>\n",
       "      <td>560017</td>\n",
       "      <td>0</td>\n",
       "      <td>4</td>\n",
       "      <td>1</td>\n",
       "    </tr>\n",
       "    <tr>\n",
       "      <th>3</th>\n",
       "      <td>22</td>\n",
       "      <td>0</td>\n",
       "      <td>2</td>\n",
       "      <td>3</td>\n",
       "      <td>4</td>\n",
       "      <td>0</td>\n",
       "      <td>6</td>\n",
       "      <td>12.9473</td>\n",
       "      <td>77.5616</td>\n",
       "      <td>560019</td>\n",
       "      <td>4</td>\n",
       "      <td>0</td>\n",
       "      <td>1</td>\n",
       "    </tr>\n",
       "    <tr>\n",
       "      <th>4</th>\n",
       "      <td>22</td>\n",
       "      <td>1</td>\n",
       "      <td>2</td>\n",
       "      <td>3</td>\n",
       "      <td>2</td>\n",
       "      <td>2</td>\n",
       "      <td>4</td>\n",
       "      <td>12.9850</td>\n",
       "      <td>77.5533</td>\n",
       "      <td>560010</td>\n",
       "      <td>0</td>\n",
       "      <td>0</td>\n",
       "      <td>1</td>\n",
       "    </tr>\n",
       "    <tr>\n",
       "      <th>5</th>\n",
       "      <td>27</td>\n",
       "      <td>0</td>\n",
       "      <td>0</td>\n",
       "      <td>0</td>\n",
       "      <td>3</td>\n",
       "      <td>2</td>\n",
       "      <td>2</td>\n",
       "      <td>12.9299</td>\n",
       "      <td>77.6848</td>\n",
       "      <td>560103</td>\n",
       "      <td>0</td>\n",
       "      <td>4</td>\n",
       "      <td>1</td>\n",
       "    </tr>\n",
       "    <tr>\n",
       "      <th>6</th>\n",
       "      <td>22</td>\n",
       "      <td>1</td>\n",
       "      <td>2</td>\n",
       "      <td>3</td>\n",
       "      <td>4</td>\n",
       "      <td>0</td>\n",
       "      <td>3</td>\n",
       "      <td>12.9770</td>\n",
       "      <td>77.5773</td>\n",
       "      <td>560009</td>\n",
       "      <td>4</td>\n",
       "      <td>4</td>\n",
       "      <td>1</td>\n",
       "    </tr>\n",
       "    <tr>\n",
       "      <th>7</th>\n",
       "      <td>24</td>\n",
       "      <td>0</td>\n",
       "      <td>2</td>\n",
       "      <td>3</td>\n",
       "      <td>4</td>\n",
       "      <td>2</td>\n",
       "      <td>3</td>\n",
       "      <td>12.9828</td>\n",
       "      <td>77.6131</td>\n",
       "      <td>560042</td>\n",
       "      <td>1</td>\n",
       "      <td>0</td>\n",
       "      <td>1</td>\n",
       "    </tr>\n",
       "    <tr>\n",
       "      <th>8</th>\n",
       "      <td>23</td>\n",
       "      <td>0</td>\n",
       "      <td>2</td>\n",
       "      <td>3</td>\n",
       "      <td>4</td>\n",
       "      <td>2</td>\n",
       "      <td>2</td>\n",
       "      <td>12.9766</td>\n",
       "      <td>77.5993</td>\n",
       "      <td>560001</td>\n",
       "      <td>0</td>\n",
       "      <td>0</td>\n",
       "      <td>1</td>\n",
       "    </tr>\n",
       "    <tr>\n",
       "      <th>9</th>\n",
       "      <td>23</td>\n",
       "      <td>0</td>\n",
       "      <td>2</td>\n",
       "      <td>3</td>\n",
       "      <td>4</td>\n",
       "      <td>2</td>\n",
       "      <td>4</td>\n",
       "      <td>12.9854</td>\n",
       "      <td>77.7081</td>\n",
       "      <td>560048</td>\n",
       "      <td>1</td>\n",
       "      <td>4</td>\n",
       "      <td>1</td>\n",
       "    </tr>\n",
       "  </tbody>\n",
       "</table>\n",
       "</div>"
      ],
      "text/plain": [
       "   Age  Gender  Marital Status  Occupation  Monthly Income  \\\n",
       "0   20       0               2           3               4   \n",
       "1   24       0               2           3               2   \n",
       "2   22       1               2           3               2   \n",
       "3   22       0               2           3               4   \n",
       "4   22       1               2           3               2   \n",
       "5   27       0               0           0               3   \n",
       "6   22       1               2           3               4   \n",
       "7   24       0               2           3               4   \n",
       "8   23       0               2           3               4   \n",
       "9   23       0               2           3               4   \n",
       "\n",
       "   Educational Qualifications  Family size  latitude  longitude  Pin code  \\\n",
       "0                           2            4   12.9766    77.5993    560001   \n",
       "1                           0            3   12.9770    77.5773    560009   \n",
       "2                           2            3   12.9551    77.6593    560017   \n",
       "3                           0            6   12.9473    77.5616    560019   \n",
       "4                           2            4   12.9850    77.5533    560010   \n",
       "5                           2            2   12.9299    77.6848    560103   \n",
       "6                           0            3   12.9770    77.5773    560009   \n",
       "7                           2            3   12.9828    77.6131    560042   \n",
       "8                           2            2   12.9766    77.5993    560001   \n",
       "9                           2            4   12.9854    77.7081    560048   \n",
       "\n",
       "   Less Delivery time  High Quality of package  Output  \n",
       "0                   1                        1       1  \n",
       "1                   4                        4       1  \n",
       "2                   0                        4       1  \n",
       "3                   4                        0       1  \n",
       "4                   0                        0       1  \n",
       "5                   0                        4       1  \n",
       "6                   4                        4       1  \n",
       "7                   1                        0       1  \n",
       "8                   0                        0       1  \n",
       "9                   1                        4       1  "
      ]
     },
     "execution_count": 14,
     "metadata": {},
     "output_type": "execute_result"
    }
   ],
   "source": [
    "data.head(10)"
   ]
  },
  {
   "cell_type": "code",
   "execution_count": 15,
   "id": "7bb67de0",
   "metadata": {
    "execution": {
     "iopub.execute_input": "2024-04-09T04:42:18.999421Z",
     "iopub.status.busy": "2024-04-09T04:42:18.999037Z",
     "iopub.status.idle": "2024-04-09T04:42:19.749428Z",
     "shell.execute_reply": "2024-04-09T04:42:19.748254Z"
    },
    "papermill": {
     "duration": 0.772134,
     "end_time": "2024-04-09T04:42:19.752264",
     "exception": false,
     "start_time": "2024-04-09T04:42:18.980130",
     "status": "completed"
    },
    "tags": []
   },
   "outputs": [
    {
     "data": {
      "image/png": "[encoded data removed]",
      "text/plain": [
       "<Figure size 1000x800 with 2 Axes>"
      ]
     },
     "metadata": {},
     "output_type": "display_data"
    }
   ],
   "source": [
    "corr_matrix = data.corr()\n",
    "# Generate a mask for the upper triangle\n",
    "mask = np.triu(np.ones_like(corr_matrix, dtype=bool))\n",
    "\n",
    "# Set up the matplotlib figure\n",
    "plt.figure(figsize=(10, 8))\n",
    "\n",
    "# Draw the heatmap with the mask and correct aspect ratio\n",
    "sns.heatmap(corr_matrix, mask=mask, cmap='coolwarm', annot=True, fmt=\".2f\", linewidths=.5)\n",
    "\n",
    "# Add title\n",
    "plt.title('Correlation Matrix')\n",
    "\n",
    "# Show the plot\n",
    "plt.show()"
   ]
  },
  {
   "cell_type": "markdown",
   "id": "b4cb2a49",
   "metadata": {
    "papermill": {
     "duration": 0.019481,
     "end_time": "2024-04-09T04:42:19.793947",
     "exception": false,
     "start_time": "2024-04-09T04:42:19.774466",
     "status": "completed"
    },
    "tags": []
   },
   "source": [
    "Correlation matrix shows negative correlation of output with latitude and positive correlation with Age\n"
   ]
  },
  {
   "cell_type": "code",
   "execution_count": 16,
   "id": "8e483ddd",
   "metadata": {
    "execution": {
     "iopub.execute_input": "2024-04-09T04:42:19.834139Z",
     "iopub.status.busy": "2024-04-09T04:42:19.833450Z",
     "iopub.status.idle": "2024-04-09T04:42:19.839746Z",
     "shell.execute_reply": "2024-04-09T04:42:19.838594Z"
    },
    "papermill": {
     "duration": 0.029014,
     "end_time": "2024-04-09T04:42:19.842067",
     "exception": false,
     "start_time": "2024-04-09T04:42:19.813053",
     "status": "completed"
    },
    "tags": []
   },
   "outputs": [],
   "source": [
    "#dropping less correlated features\n",
    "data=data.drop(['High Quality of package', 'Less Delivery time'], axis=1)"
   ]
  },
  {
   "cell_type": "code",
   "execution_count": 17,
   "id": "8d20a15c",
   "metadata": {
    "execution": {
     "iopub.execute_input": "2024-04-09T04:42:19.883498Z",
     "iopub.status.busy": "2024-04-09T04:42:19.882894Z",
     "iopub.status.idle": "2024-04-09T04:42:19.893940Z",
     "shell.execute_reply": "2024-04-09T04:42:19.892731Z"
    },
    "papermill": {
     "duration": 0.034576,
     "end_time": "2024-04-09T04:42:19.896342",
     "exception": false,
     "start_time": "2024-04-09T04:42:19.861766",
     "status": "completed"
    },
    "tags": []
   },
   "outputs": [
    {
     "name": "stdout",
     "output_type": "stream",
     "text": [
      "Shape of train dataset :  (310, 10)\n",
      "Shape of test dataset :  (78, 10)\n"
     ]
    }
   ],
   "source": [
    "X = data.drop('Output',axis=1)\n",
    "y = data['Output']\n",
    "\n",
    "X_train,X_test, y_train, y_test = train_test_split(X,y, test_size=0.2, \n",
    "                                                    random_state=101)\n",
    "\n",
    "print(\"Shape of train dataset : \", X_train.shape)\n",
    "print(\"Shape of test dataset : \", X_test.shape)"
   ]
  },
  {
   "cell_type": "code",
   "execution_count": 18,
   "id": "31bdb062",
   "metadata": {
    "execution": {
     "iopub.execute_input": "2024-04-09T04:42:19.937713Z",
     "iopub.status.busy": "2024-04-09T04:42:19.937274Z",
     "iopub.status.idle": "2024-04-09T04:42:20.242730Z",
     "shell.execute_reply": "2024-04-09T04:42:20.241594Z"
    },
    "papermill": {
     "duration": 0.328761,
     "end_time": "2024-04-09T04:42:20.245166",
     "exception": false,
     "start_time": "2024-04-09T04:42:19.916405",
     "status": "completed"
    },
    "tags": []
   },
   "outputs": [
    {
     "data": {
      "text/plain": [
       "0.8677419354838708"
      ]
     },
     "execution_count": 18,
     "metadata": {},
     "output_type": "execute_result"
    }
   ],
   "source": [
    "#train svc classifier\n",
    "from sklearn.svm import SVC\n",
    "svm_clf = SVC(gamma=\"auto\", probability=True, random_state=42)\n",
    "svm_clf.fit(X_train, y_train)\n",
    "\n",
    "#evaluate\n",
    "from sklearn.model_selection import cross_val_score\n",
    "svm_scores = cross_val_score(svm_clf, X_train, y_train, cv=10)\n",
    "svm_scores.mean()"
   ]
  },
  {
   "cell_type": "code",
   "execution_count": 19,
   "id": "84abdb8a",
   "metadata": {
    "execution": {
     "iopub.execute_input": "2024-04-09T04:42:20.287606Z",
     "iopub.status.busy": "2024-04-09T04:42:20.287173Z",
     "iopub.status.idle": "2024-04-09T04:42:20.621161Z",
     "shell.execute_reply": "2024-04-09T04:42:20.619987Z"
    },
    "papermill": {
     "duration": 0.358078,
     "end_time": "2024-04-09T04:42:20.623582",
     "exception": false,
     "start_time": "2024-04-09T04:42:20.265504",
     "status": "completed"
    },
    "tags": []
   },
   "outputs": [
    {
     "name": "stdout",
     "output_type": "stream",
     "text": [
      "[[ 6  0]\n",
      " [12 60]]\n"
     ]
    },
    {
     "data": {
      "image/png": "[encoded data removed]",
      "text/plain": [
       "<Figure size 1000x800 with 2 Axes>"
      ]
     },
     "metadata": {},
     "output_type": "display_data"
    }
   ],
   "source": [
    "pred = svm_clf.predict(X_test)\n",
    "\n",
    "print(confusion_matrix(pred,y_test))\n",
    "\n",
    "plt.figure(figsize=(10,8))\n",
    "sns.heatmap(confusion_matrix(pred,y_test), annot=True);"
   ]
  },
  {
   "cell_type": "code",
   "execution_count": 20,
   "id": "3df55190",
   "metadata": {
    "execution": {
     "iopub.execute_input": "2024-04-09T04:42:20.666981Z",
     "iopub.status.busy": "2024-04-09T04:42:20.666519Z",
     "iopub.status.idle": "2024-04-09T04:42:20.797535Z",
     "shell.execute_reply": "2024-04-09T04:42:20.796056Z"
    },
    "papermill": {
     "duration": 0.155966,
     "end_time": "2024-04-09T04:42:20.800050",
     "exception": false,
     "start_time": "2024-04-09T04:42:20.644084",
     "status": "completed"
    },
    "tags": []
   },
   "outputs": [
    {
     "name": "stdout",
     "output_type": "stream",
     "text": [
      "Accuracy:  0.8483870967741935 0.048279450151921775\n"
     ]
    }
   ],
   "source": [
    "# Evaluating a score by cross-validation\n",
    "# cv determines the cross-validation splitting strategy\n",
    "scores = cross_val_score(svm_clf, X_train, y_train,cv=5)\n",
    "\n",
    "# average score\n",
    "print(\"Accuracy: \", scores.mean(), scores.std() * 2)"
   ]
  },
  {
   "cell_type": "code",
   "execution_count": 21,
   "id": "2dd52c2a",
   "metadata": {
    "execution": {
     "iopub.execute_input": "2024-04-09T04:42:20.843067Z",
     "iopub.status.busy": "2024-04-09T04:42:20.842629Z",
     "iopub.status.idle": "2024-04-09T04:42:21.104751Z",
     "shell.execute_reply": "2024-04-09T04:42:21.103300Z"
    },
    "papermill": {
     "duration": 0.286671,
     "end_time": "2024-04-09T04:42:21.107295",
     "exception": false,
     "start_time": "2024-04-09T04:42:20.820624",
     "status": "completed"
    },
    "tags": []
   },
   "outputs": [
    {
     "name": "stdout",
     "output_type": "stream",
     "text": [
      "0.8589743589743589\n"
     ]
    }
   ],
   "source": [
    "rfc = RandomForestClassifier(n_estimators=100)\n",
    "\n",
    "k= rfc.fit(X_train, y_train)\n",
    "\n",
    "print(rfc.score(X_test, y_test))"
   ]
  },
  {
   "cell_type": "code",
   "execution_count": 22,
   "id": "5aa1c199",
   "metadata": {
    "execution": {
     "iopub.execute_input": "2024-04-09T04:42:21.148727Z",
     "iopub.status.busy": "2024-04-09T04:42:21.148301Z",
     "iopub.status.idle": "2024-04-09T04:42:21.600523Z",
     "shell.execute_reply": "2024-04-09T04:42:21.599313Z"
    },
    "papermill": {
     "duration": 0.476229,
     "end_time": "2024-04-09T04:42:21.603492",
     "exception": false,
     "start_time": "2024-04-09T04:42:21.127263",
     "status": "completed"
    },
    "tags": []
   },
   "outputs": [
    {
     "name": "stdout",
     "output_type": "stream",
     "text": [
      "[[ 9  2]\n",
      " [ 9 58]]\n"
     ]
    },
    {
     "data": {
      "image/png": "[encoded data removed]",
      "text/plain": [
       "<Figure size 1000x800 with 2 Axes>"
      ]
     },
     "metadata": {},
     "output_type": "display_data"
    }
   ],
   "source": [
    "pred = rfc.predict(X_test)\n",
    "\n",
    "print(confusion_matrix(pred,y_test))\n",
    "\n",
    "plt.figure(figsize=(10,8))\n",
    "sns.heatmap(confusion_matrix(pred,y_test), annot=True);"
   ]
  },
  {
   "cell_type": "code",
   "execution_count": 23,
   "id": "ab01ec3c",
   "metadata": {
    "execution": {
     "iopub.execute_input": "2024-04-09T04:42:21.709892Z",
     "iopub.status.busy": "2024-04-09T04:42:21.708816Z",
     "iopub.status.idle": "2024-04-09T04:42:22.924788Z",
     "shell.execute_reply": "2024-04-09T04:42:22.923638Z"
    },
    "papermill": {
     "duration": 1.30288,
     "end_time": "2024-04-09T04:42:22.927383",
     "exception": false,
     "start_time": "2024-04-09T04:42:21.624503",
     "status": "completed"
    },
    "tags": []
   },
   "outputs": [
    {
     "name": "stdout",
     "output_type": "stream",
     "text": [
      "Accuracy:  0.867741935483871 0.042795158585230926\n"
     ]
    }
   ],
   "source": [
    "# Evaluating a score by cross-validation\n",
    "# cv determines the cross-validation splitting strategy\n",
    "scores = cross_val_score(rfc, X_train, y_train,cv=5)\n",
    "\n",
    "# average score\n",
    "print(\"Accuracy: \", scores.mean(), scores.std() * 2)"
   ]
  },
  {
   "cell_type": "code",
   "execution_count": 24,
   "id": "78f55527",
   "metadata": {
    "execution": {
     "iopub.execute_input": "2024-04-09T04:42:22.970767Z",
     "iopub.status.busy": "2024-04-09T04:42:22.970285Z",
     "iopub.status.idle": "2024-04-09T04:42:22.982651Z",
     "shell.execute_reply": "2024-04-09T04:42:22.981263Z"
    },
    "papermill": {
     "duration": 0.037287,
     "end_time": "2024-04-09T04:42:22.985165",
     "exception": false,
     "start_time": "2024-04-09T04:42:22.947878",
     "status": "completed"
    },
    "tags": []
   },
   "outputs": [
    {
     "name": "stdout",
     "output_type": "stream",
     "text": [
      "267\n"
     ]
    },
    {
     "data": {
      "text/plain": [
       "Age                               18.0000\n",
       "Gender                             1.0000\n",
       "Marital Status                     2.0000\n",
       "Occupation                         3.0000\n",
       "Monthly Income                     4.0000\n",
       "Educational Qualifications         0.0000\n",
       "Family size                        5.0000\n",
       "latitude                          12.9635\n",
       "longitude                         77.5821\n",
       "Pin code                      560002.0000\n",
       "Name: 109, dtype: float64"
      ]
     },
     "execution_count": 24,
     "metadata": {},
     "output_type": "execute_result"
    }
   ],
   "source": [
    "r = random.randint(0,len(data))\n",
    "print(r)\n",
    "r=109\n",
    "new_customer = data.drop('Output', axis=1).iloc[r]\n",
    "new_customer"
   ]
  },
  {
   "cell_type": "code",
   "execution_count": 25,
   "id": "f151f78b",
   "metadata": {
    "execution": {
     "iopub.execute_input": "2024-04-09T04:42:23.028550Z",
     "iopub.status.busy": "2024-04-09T04:42:23.028094Z",
     "iopub.status.idle": "2024-04-09T04:42:23.035318Z",
     "shell.execute_reply": "2024-04-09T04:42:23.034424Z"
    },
    "papermill": {
     "duration": 0.031761,
     "end_time": "2024-04-09T04:42:23.037658",
     "exception": false,
     "start_time": "2024-04-09T04:42:23.005897",
     "status": "completed"
    },
    "tags": []
   },
   "outputs": [
    {
     "data": {
      "text/plain": [
       "1.0"
      ]
     },
     "execution_count": 25,
     "metadata": {},
     "output_type": "execute_result"
    }
   ],
   "source": [
    "data.iloc[r]['Output']"
   ]
  },
  {
   "cell_type": "code",
   "execution_count": 26,
   "id": "85d98f5d",
   "metadata": {
    "execution": {
     "iopub.execute_input": "2024-04-09T04:42:23.082909Z",
     "iopub.status.busy": "2024-04-09T04:42:23.082040Z",
     "iopub.status.idle": "2024-04-09T04:42:23.097297Z",
     "shell.execute_reply": "2024-04-09T04:42:23.096455Z"
    },
    "papermill": {
     "duration": 0.039802,
     "end_time": "2024-04-09T04:42:23.099495",
     "exception": false,
     "start_time": "2024-04-09T04:42:23.059693",
     "status": "completed"
    },
    "tags": []
   },
   "outputs": [
    {
     "data": {
      "text/plain": [
       "array([1])"
      ]
     },
     "execution_count": 26,
     "metadata": {},
     "output_type": "execute_result"
    }
   ],
   "source": [
    "rfc.predict(new_customer.values.reshape(1,10)) # predicted output"
   ]
  },
  {
   "cell_type": "code",
   "execution_count": 27,
   "id": "73adb282",
   "metadata": {
    "execution": {
     "iopub.execute_input": "2024-04-09T04:42:23.144120Z",
     "iopub.status.busy": "2024-04-09T04:42:23.143387Z",
     "iopub.status.idle": "2024-04-09T04:42:23.150488Z",
     "shell.execute_reply": "2024-04-09T04:42:23.149659Z"
    },
    "papermill": {
     "duration": 0.031936,
     "end_time": "2024-04-09T04:42:23.152591",
     "exception": false,
     "start_time": "2024-04-09T04:42:23.120655",
     "status": "completed"
    },
    "tags": []
   },
   "outputs": [
    {
     "data": {
      "text/plain": [
       "array([1])"
      ]
     },
     "execution_count": 27,
     "metadata": {},
     "output_type": "execute_result"
    }
   ],
   "source": [
    "svm_clf.predict(new_customer.values.reshape(1,10)) # predicted output"
   ]
  },
  {
   "cell_type": "code",
   "execution_count": 28,
   "id": "3298fcc5",
   "metadata": {
    "execution": {
     "iopub.execute_input": "2024-04-09T04:42:23.197480Z",
     "iopub.status.busy": "2024-04-09T04:42:23.196348Z",
     "iopub.status.idle": "2024-04-09T04:42:23.538283Z",
     "shell.execute_reply": "2024-04-09T04:42:23.537239Z"
    },
    "papermill": {
     "duration": 0.36709,
     "end_time": "2024-04-09T04:42:23.540808",
     "exception": false,
     "start_time": "2024-04-09T04:42:23.173718",
     "status": "completed"
    },
    "tags": []
   },
   "outputs": [
    {
     "name": "stdout",
     "output_type": "stream",
     "text": [
      "[0.16141483 0.04004602 0.04729014 0.05578671 0.06978637 0.04879579\n",
      " 0.09964339 0.17500611 0.16549677 0.13673386]\n"
     ]
    },
    {
     "data": {
      "image/png": "[encoded data removed]",
      "text/plain": [
       "<Figure size 1000x600 with 1 Axes>"
      ]
     },
     "metadata": {},
     "output_type": "display_data"
    }
   ],
   "source": [
    "# Get feature importances\n",
    "importances = rfc.feature_importances_\n",
    "\n",
    "print(importances)\n",
    "\n",
    "# Sort feature importances in descending order\n",
    "indices = np.argsort(importances)[::-1]\n",
    "\n",
    "# Plot feature importances\n",
    "plt.figure(figsize=(10, 6))\n",
    "plt.title(\"Feature Importances\")\n",
    "plt.bar(range(X.shape[1]), importances[indices], align=\"center\")\n",
    "plt.xticks(range(X.shape[1]), indices)\n",
    "plt.xlabel(\"Feature Index\")\n",
    "plt.ylabel(\"Importance Score\")\n",
    "plt.show()"
   ]
  },
  {
   "cell_type": "code",
   "execution_count": 29,
   "id": "cac91972",
   "metadata": {
    "execution": {
     "iopub.execute_input": "2024-04-09T04:42:23.586825Z",
     "iopub.status.busy": "2024-04-09T04:42:23.586409Z",
     "iopub.status.idle": "2024-04-09T04:42:23.899899Z",
     "shell.execute_reply": "2024-04-09T04:42:23.898740Z"
    },
    "papermill": {
     "duration": 0.339589,
     "end_time": "2024-04-09T04:42:23.902318",
     "exception": false,
     "start_time": "2024-04-09T04:42:23.562729",
     "status": "completed"
    },
    "tags": []
   },
   "outputs": [
    {
     "data": {
      "image/png": "[encoded data removed]",
      "text/plain": [
       "<Figure size 800x600 with 1 Axes>"
      ]
     },
     "metadata": {},
     "output_type": "display_data"
    }
   ],
   "source": [
    "from sklearn.metrics import roc_curve, auc\n",
    "\n",
    "# Predict probabilities for Random Forest\n",
    "rf_probs = rfc.predict_proba(X_test)[:, 1]\n",
    "\n",
    "# Compute ROC curve and ROC area for Random Forest\n",
    "rf_fpr, rf_tpr, _ = roc_curve(y_test, rf_probs)\n",
    "rf_roc_auc = auc(rf_fpr, rf_tpr)\n",
    "\n",
    "# Plot ROC curve for Random Forest\n",
    "plt.figure(figsize=(8, 6))\n",
    "plt.plot(rf_fpr, rf_tpr, color='blue', lw=2, label='Random Forest (AUC = %0.2f)' % rf_roc_auc)\n",
    "plt.plot([0, 1], [0, 1], color='gray', lw=1, linestyle='--')\n",
    "plt.xlim([0.0, 1.0])\n",
    "plt.ylim([0.0, 1.05])\n",
    "plt.xlabel('False Positive Rate')\n",
    "plt.ylabel('True Positive Rate')\n",
    "plt.title('ROC Curve (Random Forest)')\n",
    "plt.legend(loc='lower right')\n",
    "plt.show()"
   ]
  },
  {
   "cell_type": "code",
   "execution_count": 30,
   "id": "2c1bbf47",
   "metadata": {
    "execution": {
     "iopub.execute_input": "2024-04-09T04:42:23.950290Z",
     "iopub.status.busy": "2024-04-09T04:42:23.949860Z",
     "iopub.status.idle": "2024-04-09T04:42:23.990377Z",
     "shell.execute_reply": "2024-04-09T04:42:23.988873Z"
    },
    "papermill": {
     "duration": 0.067367,
     "end_time": "2024-04-09T04:42:23.993038",
     "exception": false,
     "start_time": "2024-04-09T04:42:23.925671",
     "status": "completed"
    },
    "tags": []
   },
   "outputs": [
    {
     "name": "stdout",
     "output_type": "stream",
     "text": [
      "Random Forest:\n",
      "              precision    recall  f1-score   support\n",
      "\n",
      "           0       0.82      0.50      0.62        18\n",
      "           1       0.87      0.97      0.91        60\n",
      "\n",
      "    accuracy                           0.86        78\n",
      "   macro avg       0.84      0.73      0.77        78\n",
      "weighted avg       0.85      0.86      0.85        78\n",
      "\n",
      "SVM:\n",
      "              precision    recall  f1-score   support\n",
      "\n",
      "           0       1.00      0.33      0.50        18\n",
      "           1       0.83      1.00      0.91        60\n",
      "\n",
      "    accuracy                           0.85        78\n",
      "   macro avg       0.92      0.67      0.70        78\n",
      "weighted avg       0.87      0.85      0.81        78\n",
      "\n"
     ]
    }
   ],
   "source": [
    "from sklearn.metrics import classification_report\n",
    "# Predictions for Random Forest and SVM\n",
    "rf_preds = rfc.predict(X_test)\n",
    "svm_preds = svm_clf.predict(X_test)\n",
    "\n",
    "# Classification report for Random Forest\n",
    "print(\"Random Forest:\")\n",
    "print(classification_report(y_test, rf_preds))\n",
    "\n",
    "# Classification report for SVM\n",
    "print(\"SVM:\")\n",
    "print(classification_report(y_test, svm_preds))"
   ]
  },
  {
   "cell_type": "code",
   "execution_count": 31,
   "id": "4d6ad69b",
   "metadata": {
    "execution": {
     "iopub.execute_input": "2024-04-09T04:42:24.041547Z",
     "iopub.status.busy": "2024-04-09T04:42:24.041098Z",
     "iopub.status.idle": "2024-04-09T04:42:24.348830Z",
     "shell.execute_reply": "2024-04-09T04:42:24.347610Z"
    },
    "papermill": {
     "duration": 0.335525,
     "end_time": "2024-04-09T04:42:24.351739",
     "exception": false,
     "start_time": "2024-04-09T04:42:24.016214",
     "status": "completed"
    },
    "tags": []
   },
   "outputs": [
    {
     "data": {
      "image/png": "[encoded data removed]",
      "text/plain": [
       "<Figure size 800x600 with 1 Axes>"
      ]
     },
     "metadata": {},
     "output_type": "display_data"
    }
   ],
   "source": [
    "# Predict probabilities for SVM\n",
    "svm_probs = svm_clf.predict_proba(X_test)[:, 1]\n",
    "\n",
    "# Compute ROC curve and ROC area for SVM\n",
    "svm_fpr, svm_tpr, _ = roc_curve(y_test, svm_probs)\n",
    "svm_roc_auc = auc(svm_fpr, svm_tpr)\n",
    "\n",
    "# Plot ROC curve for SVM\n",
    "plt.figure(figsize=(8, 6))\n",
    "plt.plot(svm_fpr, svm_tpr, color='green', lw=2, label='SVM (AUC = %0.2f)' % svm_roc_auc)\n",
    "plt.plot([0, 1], [0, 1], color='gray', lw=1, linestyle='--')\n",
    "plt.xlim([0.0, 1.0])\n",
    "plt.ylim([0.0, 1.05])\n",
    "plt.xlabel('False Positive Rate')\n",
    "plt.ylabel('True Positive Rate')\n",
    "plt.title('ROC Curve (SVM)')\n",
    "plt.legend(loc='lower right')\n",
    "plt.show()"
   ]
  },
  {
   "cell_type": "code",
   "execution_count": 32,
   "id": "2106ba4a",
   "metadata": {
    "execution": {
     "iopub.execute_input": "2024-04-09T04:42:24.401727Z",
     "iopub.status.busy": "2024-04-09T04:42:24.401306Z",
     "iopub.status.idle": "2024-04-09T04:42:24.408958Z",
     "shell.execute_reply": "2024-04-09T04:42:24.407783Z"
    },
    "papermill": {
     "duration": 0.035612,
     "end_time": "2024-04-09T04:42:24.411812",
     "exception": false,
     "start_time": "2024-04-09T04:42:24.376200",
     "status": "completed"
    },
    "tags": []
   },
   "outputs": [
    {
     "name": "stdout",
     "output_type": "stream",
     "text": [
      "Number of Estimators: 100\n",
      "Maximum Depth: None\n",
      "Minimum Samples Split: 2\n",
      "Minimum Samples Leaf: 1\n",
      "Maximum Features: sqrt\n"
     ]
    }
   ],
   "source": [
    "# Number of Estimators\n",
    "num_estimators = rfc.n_estimators\n",
    "\n",
    "# Maximum Depth\n",
    "max_depth = rfc.max_depth\n",
    "\n",
    "# Minimum Samples Split\n",
    "min_samples_split = rfc.min_samples_split\n",
    "\n",
    "# Minimum Samples Leaf\n",
    "min_samples_leaf = rfc.min_samples_leaf\n",
    "\n",
    "# Maximum Features\n",
    "max_features = rfc.max_features\n",
    "\n",
    "print(\"Number of Estimators:\", num_estimators)\n",
    "print(\"Maximum Depth:\", max_depth)\n",
    "print(\"Minimum Samples Split:\", min_samples_split)\n",
    "print(\"Minimum Samples Leaf:\", min_samples_leaf)\n",
    "print(\"Maximum Features:\", max_features)"
   ]
  },
  {
   "cell_type": "code",
   "execution_count": 33,
   "id": "c21eba27",
   "metadata": {
    "execution": {
     "iopub.execute_input": "2024-04-09T04:42:24.461895Z",
     "iopub.status.busy": "2024-04-09T04:42:24.461058Z",
     "iopub.status.idle": "2024-04-09T04:42:24.468502Z",
     "shell.execute_reply": "2024-04-09T04:42:24.467120Z"
    },
    "papermill": {
     "duration": 0.035461,
     "end_time": "2024-04-09T04:42:24.471141",
     "exception": false,
     "start_time": "2024-04-09T04:42:24.435680",
     "status": "completed"
    },
    "tags": []
   },
   "outputs": [
    {
     "name": "stdout",
     "output_type": "stream",
     "text": [
      "Kernel:  rbf\n",
      "C:  1.0\n",
      "Gamma:  auto\n"
     ]
    }
   ],
   "source": [
    "# Kernel Type\n",
    "kernel_type = svm_clf.kernel\n",
    "\n",
    "# Regularization Parameter (C)\n",
    "C_value = svm_clf.C\n",
    "\n",
    "# Kernel Coefficient (Gamma)\n",
    "gamma_value = svm_clf.gamma\n",
    "\n",
    "print(\"Kernel: \", kernel_type)\n",
    "print(\"C: \", C_value)\n",
    "print(\"Gamma: \", gamma_value)"
   ]
  },
  {
   "cell_type": "code",
   "execution_count": 34,
   "id": "0eead8e9",
   "metadata": {
    "execution": {
     "iopub.execute_input": "2024-04-09T04:42:24.520942Z",
     "iopub.status.busy": "2024-04-09T04:42:24.520522Z",
     "iopub.status.idle": "2024-04-09T04:42:24.597444Z",
     "shell.execute_reply": "2024-04-09T04:42:24.596172Z"
    },
    "papermill": {
     "duration": 0.105382,
     "end_time": "2024-04-09T04:42:24.600282",
     "exception": false,
     "start_time": "2024-04-09T04:42:24.494900",
     "status": "completed"
    },
    "tags": []
   },
   "outputs": [
    {
     "name": "stdout",
     "output_type": "stream",
     "text": [
      "SVM Model:\n",
      "Train Accuracy: 0.9612903225806452\n",
      "Test Accuracy: 0.8461538461538461\n",
      "Precision: 0.8333333333333334\n",
      "Recall: 1.0\n",
      "ROC AUC: 0.8333333333333334\n",
      "\n",
      "Random Forest Model:\n",
      "Train Accuracy: 1.0\n",
      "Test Accuracy: 0.8589743589743589\n",
      "Precision: 0.8656716417910447\n",
      "Recall: 0.9666666666666667\n",
      "ROC AUC: 0.8708333333333333\n"
     ]
    }
   ],
   "source": [
    "from sklearn.metrics import accuracy_score, precision_score, recall_score, roc_auc_score, roc_curve\n",
    "import matplotlib.pyplot as plt\n",
    "\n",
    "def evaluate_model(model, X_train, y_train, X_test, y_test):\n",
    "    # Train accuracy\n",
    "    train_preds = model.predict(X_train)\n",
    "    train_accuracy = accuracy_score(y_train, train_preds)\n",
    "\n",
    "    # Test accuracy\n",
    "    test_preds = model.predict(X_test)\n",
    "    test_accuracy = accuracy_score(y_test, test_preds)\n",
    "\n",
    "    # Precision\n",
    "    precision = precision_score(y_test, test_preds)\n",
    "\n",
    "    # Recall\n",
    "    recall = recall_score(y_test, test_preds)\n",
    "\n",
    "    # ROC AUC\n",
    "    if hasattr(model, \"predict_proba\"):\n",
    "        prob_pos = model.predict_proba(X_test)[:, 1]\n",
    "    else:  # use decision function\n",
    "        prob_pos = model.decision_function(X_test)\n",
    "    roc_auc = roc_auc_score(y_test, prob_pos)\n",
    "\n",
    "    return train_accuracy, test_accuracy, precision, recall, roc_auc\n",
    "\n",
    "# Evaluate SVM model\n",
    "svm_train_accuracy, svm_test_accuracy, svm_precision, svm_recall, svm_roc_auc = evaluate_model(svm_clf, X_train, y_train, X_test, y_test)\n",
    "\n",
    "# Evaluate Random Forest model\n",
    "rf_train_accuracy, rf_test_accuracy, rf_precision, rf_recall, rf_roc_auc = evaluate_model(rfc, X_train, y_train, X_test, y_test)\n",
    "\n",
    "# Print results\n",
    "print(\"SVM Model:\")\n",
    "print(\"Train Accuracy:\", svm_train_accuracy)\n",
    "print(\"Test Accuracy:\", svm_test_accuracy)\n",
    "print(\"Precision:\", svm_precision)\n",
    "print(\"Recall:\", svm_recall)\n",
    "print(\"ROC AUC:\", svm_roc_auc)\n",
    "\n",
    "print(\"\\nRandom Forest Model:\")\n",
    "print(\"Train Accuracy:\", rf_train_accuracy)\n",
    "print(\"Test Accuracy:\", rf_test_accuracy)\n",
    "print(\"Precision:\", rf_precision)\n",
    "print(\"Recall:\", rf_recall)\n",
    "print(\"ROC AUC:\", rf_roc_auc)"
   ]
  },
  {
   "cell_type": "code",
   "execution_count": 35,
   "id": "4ee18adc",
   "metadata": {
    "execution": {
     "iopub.execute_input": "2024-04-09T04:42:24.649522Z",
     "iopub.status.busy": "2024-04-09T04:42:24.649142Z",
     "iopub.status.idle": "2024-04-09T04:42:31.215369Z",
     "shell.execute_reply": "2024-04-09T04:42:31.214137Z"
    },
    "papermill": {
     "duration": 6.593637,
     "end_time": "2024-04-09T04:42:31.217871",
     "exception": false,
     "start_time": "2024-04-09T04:42:24.624234",
     "status": "completed"
    },
    "tags": []
   },
   "outputs": [
    {
     "name": "stdout",
     "output_type": "stream",
     "text": [
      "Best Number of Estimators: 200\n"
     ]
    }
   ],
   "source": [
    "from sklearn.model_selection import GridSearchCV\n",
    "\n",
    "# Define the parameter grid to search\n",
    "param_grid = {\n",
    "    'n_estimators': [50, 100,150, 200]  # Adjust the values as needed\n",
    "}\n",
    "\n",
    "# Create a Random Forest classifier\n",
    "rf_classifier = RandomForestClassifier()\n",
    "\n",
    "# Create a GridSearchCV object\n",
    "grid_search = GridSearchCV(estimator=rf_classifier, param_grid=param_grid, cv=5, scoring='accuracy')\n",
    "\n",
    "# Perform grid search\n",
    "grid_search.fit(X_train, y_train)\n",
    "\n",
    "# Get the best parameter values\n",
    "best_n_estimators = grid_search.best_params_['n_estimators']\n",
    "\n",
    "print(\"Best Number of Estimators:\", best_n_estimators)"
   ]
  },
  {
   "cell_type": "code",
   "execution_count": 36,
   "id": "4ab104f1",
   "metadata": {
    "execution": {
     "iopub.execute_input": "2024-04-09T04:42:31.267683Z",
     "iopub.status.busy": "2024-04-09T04:42:31.267269Z",
     "iopub.status.idle": "2024-04-09T04:42:31.277500Z",
     "shell.execute_reply": "2024-04-09T04:42:31.276672Z"
    },
    "papermill": {
     "duration": 0.038211,
     "end_time": "2024-04-09T04:42:31.279884",
     "exception": false,
     "start_time": "2024-04-09T04:42:31.241673",
     "status": "completed"
    },
    "tags": []
   },
   "outputs": [
    {
     "name": "stdout",
     "output_type": "stream",
     "text": [
      "     Age  Gender  Marital Status  Occupation  Monthly Income  \\\n",
      "109   18       1               2           3               4   \n",
      "\n",
      "     Educational Qualifications  Family size  latitude  longitude  Pin code  \\\n",
      "109                           0            5   12.9635    77.5821    560002   \n",
      "\n",
      "     Output  \n",
      "109       1  \n"
     ]
    }
   ],
   "source": [
    "\n",
    "records_for_age = data[data['Age'] == 18]\n",
    "\n",
    "# Display the records\n",
    "print(records_for_age)"
   ]
  },
  {
   "cell_type": "code",
   "execution_count": 37,
   "id": "29e3576c",
   "metadata": {
    "execution": {
     "iopub.execute_input": "2024-04-09T04:42:31.329235Z",
     "iopub.status.busy": "2024-04-09T04:42:31.328828Z",
     "iopub.status.idle": "2024-04-09T04:42:31.334184Z",
     "shell.execute_reply": "2024-04-09T04:42:31.333219Z"
    },
    "papermill": {
     "duration": 0.032687,
     "end_time": "2024-04-09T04:42:31.336319",
     "exception": false,
     "start_time": "2024-04-09T04:42:31.303632",
     "status": "completed"
    },
    "tags": []
   },
   "outputs": [],
   "source": [
    "df_sorted = data.sort_values(by='Age', ascending=True)"
   ]
  },
  {
   "cell_type": "code",
   "execution_count": 38,
   "id": "4e6f475b",
   "metadata": {
    "execution": {
     "iopub.execute_input": "2024-04-09T04:42:31.385772Z",
     "iopub.status.busy": "2024-04-09T04:42:31.385370Z",
     "iopub.status.idle": "2024-04-09T04:42:31.400954Z",
     "shell.execute_reply": "2024-04-09T04:42:31.399785Z"
    },
    "papermill": {
     "duration": 0.0432,
     "end_time": "2024-04-09T04:42:31.403298",
     "exception": false,
     "start_time": "2024-04-09T04:42:31.360098",
     "status": "completed"
    },
    "tags": []
   },
   "outputs": [
    {
     "data": {
      "text/html": [
       "<div>\n",
       "<style scoped>\n",
       "    .dataframe tbody tr th:only-of-type {\n",
       "        vertical-align: middle;\n",
       "    }\n",
       "\n",
       "    .dataframe tbody tr th {\n",
       "        vertical-align: top;\n",
       "    }\n",
       "\n",
       "    .dataframe thead th {\n",
       "        text-align: right;\n",
       "    }\n",
       "</style>\n",
       "<table border=\"1\" class=\"dataframe\">\n",
       "  <thead>\n",
       "    <tr style=\"text-align: right;\">\n",
       "      <th></th>\n",
       "      <th>Age</th>\n",
       "      <th>Gender</th>\n",
       "      <th>Marital Status</th>\n",
       "      <th>Occupation</th>\n",
       "      <th>Monthly Income</th>\n",
       "      <th>Educational Qualifications</th>\n",
       "      <th>Family size</th>\n",
       "      <th>latitude</th>\n",
       "      <th>longitude</th>\n",
       "      <th>Pin code</th>\n",
       "      <th>Output</th>\n",
       "    </tr>\n",
       "  </thead>\n",
       "  <tbody>\n",
       "    <tr>\n",
       "      <th>109</th>\n",
       "      <td>18</td>\n",
       "      <td>1</td>\n",
       "      <td>2</td>\n",
       "      <td>3</td>\n",
       "      <td>4</td>\n",
       "      <td>0</td>\n",
       "      <td>5</td>\n",
       "      <td>12.9635</td>\n",
       "      <td>77.5821</td>\n",
       "      <td>560002</td>\n",
       "      <td>1</td>\n",
       "    </tr>\n",
       "    <tr>\n",
       "      <th>133</th>\n",
       "      <td>19</td>\n",
       "      <td>1</td>\n",
       "      <td>2</td>\n",
       "      <td>3</td>\n",
       "      <td>4</td>\n",
       "      <td>0</td>\n",
       "      <td>2</td>\n",
       "      <td>13.0019</td>\n",
       "      <td>77.5713</td>\n",
       "      <td>560003</td>\n",
       "      <td>0</td>\n",
       "    </tr>\n",
       "    <tr>\n",
       "      <th>280</th>\n",
       "      <td>19</td>\n",
       "      <td>1</td>\n",
       "      <td>2</td>\n",
       "      <td>3</td>\n",
       "      <td>4</td>\n",
       "      <td>0</td>\n",
       "      <td>6</td>\n",
       "      <td>12.9048</td>\n",
       "      <td>77.6821</td>\n",
       "      <td>560036</td>\n",
       "      <td>1</td>\n",
       "    </tr>\n",
       "    <tr>\n",
       "      <th>134</th>\n",
       "      <td>19</td>\n",
       "      <td>0</td>\n",
       "      <td>2</td>\n",
       "      <td>3</td>\n",
       "      <td>4</td>\n",
       "      <td>0</td>\n",
       "      <td>4</td>\n",
       "      <td>12.9537</td>\n",
       "      <td>77.6176</td>\n",
       "      <td>560047</td>\n",
       "      <td>1</td>\n",
       "    </tr>\n",
       "    <tr>\n",
       "      <th>196</th>\n",
       "      <td>19</td>\n",
       "      <td>1</td>\n",
       "      <td>2</td>\n",
       "      <td>3</td>\n",
       "      <td>4</td>\n",
       "      <td>0</td>\n",
       "      <td>6</td>\n",
       "      <td>12.9442</td>\n",
       "      <td>77.6076</td>\n",
       "      <td>560030</td>\n",
       "      <td>1</td>\n",
       "    </tr>\n",
       "  </tbody>\n",
       "</table>\n",
       "</div>"
      ],
      "text/plain": [
       "     Age  Gender  Marital Status  Occupation  Monthly Income  \\\n",
       "109   18       1               2           3               4   \n",
       "133   19       1               2           3               4   \n",
       "280   19       1               2           3               4   \n",
       "134   19       0               2           3               4   \n",
       "196   19       1               2           3               4   \n",
       "\n",
       "     Educational Qualifications  Family size  latitude  longitude  Pin code  \\\n",
       "109                           0            5   12.9635    77.5821    560002   \n",
       "133                           0            2   13.0019    77.5713    560003   \n",
       "280                           0            6   12.9048    77.6821    560036   \n",
       "134                           0            4   12.9537    77.6176    560047   \n",
       "196                           0            6   12.9442    77.6076    560030   \n",
       "\n",
       "     Output  \n",
       "109       1  \n",
       "133       0  \n",
       "280       1  \n",
       "134       1  \n",
       "196       1  "
      ]
     },
     "execution_count": 38,
     "metadata": {},
     "output_type": "execute_result"
    }
   ],
   "source": [
    "df_sorted.head()"
   ]
  },
  {
   "cell_type": "code",
   "execution_count": 39,
   "id": "f85cb2b0",
   "metadata": {
    "execution": {
     "iopub.execute_input": "2024-04-09T04:42:31.453830Z",
     "iopub.status.busy": "2024-04-09T04:42:31.453401Z",
     "iopub.status.idle": "2024-04-09T04:42:31.474859Z",
     "shell.execute_reply": "2024-04-09T04:42:31.473628Z"
    },
    "papermill": {
     "duration": 0.04973,
     "end_time": "2024-04-09T04:42:31.477253",
     "exception": false,
     "start_time": "2024-04-09T04:42:31.427523",
     "status": "completed"
    },
    "tags": []
   },
   "outputs": [
    {
     "name": "stdout",
     "output_type": "stream",
     "text": [
      "Accuracy: 0.7692307692307693\n"
     ]
    }
   ],
   "source": [
    "from sklearn.neighbors import KNeighborsClassifier\n",
    "from sklearn.metrics import accuracy_score\n",
    "\n",
    "knn_classifier = KNeighborsClassifier(n_neighbors=100)\n",
    "# Train the classifier on the training data\n",
    "knn_classifier.fit(X_train, y_train)\n",
    "\n",
    "# Make predictions on the testing data\n",
    "y_pred = knn_classifier.predict(X_test)\n",
    "\n",
    "# Calculate the accuracy of the classifier\n",
    "accuracy = accuracy_score(y_test, y_pred)\n",
    "print(\"Accuracy:\", accuracy)"
   ]
  },
  {
   "cell_type": "code",
   "execution_count": 40,
   "id": "517784a2",
   "metadata": {
    "execution": {
     "iopub.execute_input": "2024-04-09T04:42:31.529510Z",
     "iopub.status.busy": "2024-04-09T04:42:31.528346Z",
     "iopub.status.idle": "2024-04-09T04:42:31.601471Z",
     "shell.execute_reply": "2024-04-09T04:42:31.600223Z"
    },
    "papermill": {
     "duration": 0.101657,
     "end_time": "2024-04-09T04:42:31.603788",
     "exception": false,
     "start_time": "2024-04-09T04:42:31.502131",
     "status": "completed"
    },
    "tags": []
   },
   "outputs": [
    {
     "name": "stdout",
     "output_type": "stream",
     "text": [
      "Accuracy:  0.7774193548387098 0.0129032258064516\n"
     ]
    }
   ],
   "source": [
    "# Evaluating a score by cross-validation\n",
    "# cv determines the cross-validation splitting strategy\n",
    "knn_scores = cross_val_score(knn_classifier, X_train, y_train,cv=5)\n",
    "\n",
    "# average score\n",
    "print(\"Accuracy: \", knn_scores.mean(), knn_scores.std() * 2)"
   ]
  },
  {
   "cell_type": "code",
   "execution_count": 41,
   "id": "18f8b409",
   "metadata": {
    "execution": {
     "iopub.execute_input": "2024-04-09T04:42:31.656193Z",
     "iopub.status.busy": "2024-04-09T04:42:31.655132Z",
     "iopub.status.idle": "2024-04-09T04:42:31.663222Z",
     "shell.execute_reply": "2024-04-09T04:42:31.661826Z"
    },
    "papermill": {
     "duration": 0.036566,
     "end_time": "2024-04-09T04:42:31.665473",
     "exception": false,
     "start_time": "2024-04-09T04:42:31.628907",
     "status": "completed"
    },
    "tags": []
   },
   "outputs": [
    {
     "name": "stdout",
     "output_type": "stream",
     "text": [
      "[[ 0  0]\n",
      " [18 60]]\n"
     ]
    }
   ],
   "source": [
    "print(confusion_matrix(y_pred,y_test))"
   ]
  },
  {
   "cell_type": "code",
   "execution_count": null,
   "id": "a240d17b",
   "metadata": {
    "papermill": {
     "duration": 0.024876,
     "end_time": "2024-04-09T04:42:31.715921",
     "exception": false,
     "start_time": "2024-04-09T04:42:31.691045",
     "status": "completed"
    },
    "tags": []
   },
   "outputs": [],
   "source": []
  }
 ],
 "metadata": {
  "kaggle": {
   "accelerator": "none",
   "dataSources": [
    {
     "datasetId": 961263,
     "sourceId": 1626259,
     "sourceType": "datasetVersion"
    }
   ],
   "dockerImageVersionId": 30673,
   "isGpuEnabled": false,
   "isInternetEnabled": false,
   "language": "python",
   "sourceType": "notebook"
  },
  "kernelspec": {
   "display_name": "Python 3",
   "language": "python",
   "name": "python3"
  },
  "language_info": {
   "codemirror_mode": {
    "name": "ipython",
    "version": 3
   },
   "file_extension": ".py",
   "mimetype": "text/x-python",
   "name": "python",
   "nbconvert_exporter": "python",
   "pygments_lexer": "ipython3",
   "version": "3.10.13"
  },
  "papermill": {
   "default_parameters": {},
   "duration": 21.927795,
   "end_time": "2024-04-09T04:42:32.461831",
   "environment_variables": {},
   "exception": null,
   "input_path": "__notebook__.ipynb",
   "output_path": "__notebook__.ipynb",
   "parameters": {},
   "start_time": "2024-04-09T04:42:10.534036",
   "version": "2.5.0"
  }
 },
 "nbformat": 4,
 "nbformat_minor": 5
}
